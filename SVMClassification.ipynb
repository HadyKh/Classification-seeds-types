{
 "cells": [
  {
   "cell_type": "code",
   "execution_count": 1,
   "id": "dc6a3a72",
   "metadata": {},
   "outputs": [],
   "source": [
    "import pandas as pd\n",
    "import numpy as np\n",
    "from sklearn.model_selection import train_test_split\n",
    "from sklearn.svm import SVC\n",
    "from sklearn.preprocessing import StandardScaler\n",
    "from sklearn.metrics import confusion_matrix, accuracy_score, classification_report, plot_confusion_matrix\n",
    "from matplotlib.colors import ListedColormap\n",
    "import matplotlib.pyplot as plt"
   ]
  },
  {
   "cell_type": "code",
   "execution_count": 6,
   "id": "c78405a9",
   "metadata": {},
   "outputs": [],
   "source": [
    "def model_svm(x_train, y_train, x_test):\n",
    "    cs = SVC(kernel = 'linear', random_state = 0)\n",
    "    cs.fit(x_train, y_train)\n",
    "    y_pred = cs.predict(x_test)\n",
    "    return y_pred, cs"
   ]
  },
  {
   "cell_type": "code",
   "execution_count": 13,
   "id": "26156076",
   "metadata": {},
   "outputs": [],
   "source": [
    "#plotting only two classes\n",
    "def plotting(x_test, y_test, model):\n",
    "    X, Y = np.array(x_test), np.array(y_test)\n",
    "    XX, YY = np.meshgrid(np.arange(start = X[:, 0].min() - 1, stop = X[:, 0].max() + 1, step = 0.01),\n",
    "                     np.arange(start = X[:, 1].min() - 1, stop = X[:, 1].max() + 1, step = 0.01))\n",
    "    z = model.predict(np.array([XX.ravel(), YY.ravel()]).T)\n",
    "    ZZ = z.reshape(XX.shape)\n",
    "    plt.contourf(XX, YY, ZZ, alpha = 0.2, cmap = ListedColormap(('red', 'green')))\n",
    "    plt.xlim(XX.min(), XX.max())\n",
    "    plt.ylim(YY.min(), YY.max())\n",
    "    colors = ['r', 'g']\n",
    "    markers = ['o', '+']\n",
    "    for class_index in range(len(cls)):\n",
    "        plt.scatter(X[Y == cls[class_index],0],\n",
    "                    X[Y == cls[class_index],1],\n",
    "                    c=colors[class_index], marker=markers[class_index], label=cls_names[cls[class_index]])\n",
    "    plt.title('SVM')\n",
    "    plt.legend()\n",
    "    plt.show()"
   ]
  },
  {
   "cell_type": "markdown",
   "id": "2ac9a0be",
   "metadata": {},
   "source": [
    "# data reading and preparation"
   ]
  },
  {
   "cell_type": "code",
   "execution_count": 2,
   "id": "b735fa88",
   "metadata": {},
   "outputs": [],
   "source": [
    "seeds_train = pd.read_csv(\"seeds_train.csv\",  names = ['Feature 1', 'Feature 5', 'Label'])\n",
    "seeds_test = pd.read_csv(\"seeds_test.csv\", names = ['Feature 1', 'Feature 5', 'Label'])"
   ]
  },
  {
   "cell_type": "code",
   "execution_count": 3,
   "id": "ad0abcad",
   "metadata": {},
   "outputs": [],
   "source": [
    "#remove class 1\n",
    "seeds_train_23 = seeds_train[seeds_train['Label'].isin([2,3])]\n",
    "seeds_test_23 = seeds_test[seeds_test['Label'].isin([2,3])]"
   ]
  },
  {
   "cell_type": "code",
   "execution_count": 4,
   "id": "d7575bee",
   "metadata": {},
   "outputs": [],
   "source": [
    "#split data to be fitted and tested after that\n",
    "x_seeds_train = seeds_train_23[['Feature 1', 'Feature 5']]\n",
    "y_seeds_train = seeds_train_23['Label']\n",
    "x_seeds_test = seeds_test_23[['Feature 1', 'Feature 5']]\n",
    "y_seeds_test = seeds_test_23['Label']"
   ]
  },
  {
   "cell_type": "code",
   "execution_count": 5,
   "id": "5010a829",
   "metadata": {},
   "outputs": [],
   "source": [
    "#data principles\n",
    "cls = [2, 3]\n",
    "cls_names = {1:'Kama',\n",
    "            2:'Rosa',\n",
    "            3:'Canadian'}"
   ]
  },
  {
   "cell_type": "code",
   "execution_count": 7,
   "id": "740172ca",
   "metadata": {},
   "outputs": [],
   "source": [
    "y_pred, model = model_svm(x_seeds_train, y_seeds_train, x_seeds_test)"
   ]
  },
  {
   "cell_type": "code",
   "execution_count": 8,
   "id": "522108fc",
   "metadata": {},
   "outputs": [
    {
     "data": {
      "text/plain": [
       "<sklearn.metrics._plot.confusion_matrix.ConfusionMatrixDisplay at 0x124cacb4460>"
      ]
     },
     "execution_count": 8,
     "metadata": {},
     "output_type": "execute_result"
    },
    {
     "data": {
      "image/png": "[encoded data removed]",
      "text/plain": [
       "<Figure size 432x288 with 2 Axes>"
      ]
     },
     "metadata": {
      "needs_background": "light"
     },
     "output_type": "display_data"
    }
   ],
   "source": [
    "#Plotting confusion matrix\n",
    "plot_confusion_matrix(model, x_seeds_test, y_seeds_test)"
   ]
  },
  {
   "cell_type": "code",
   "execution_count": 9,
   "id": "f800e3d6",
   "metadata": {},
   "outputs": [
    {
     "data": {
      "text/plain": [
       "1.0"
      ]
     },
     "execution_count": 9,
     "metadata": {},
     "output_type": "execute_result"
    }
   ],
   "source": [
    "accuracy = accuracy_score(y_seeds_test, y_pred)\n",
    "accuracy"
   ]
  },
  {
   "cell_type": "code",
   "execution_count": 10,
   "id": "6959e6c7",
   "metadata": {},
   "outputs": [
    {
     "name": "stdout",
     "output_type": "stream",
     "text": [
      "              precision    recall  f1-score   support\n",
      "\n",
      "           2       1.00      1.00      1.00        17\n",
      "           3       1.00      1.00      1.00        12\n",
      "\n",
      "    accuracy                           1.00        29\n",
      "   macro avg       1.00      1.00      1.00        29\n",
      "weighted avg       1.00      1.00      1.00        29\n",
      "\n"
     ]
    }
   ],
   "source": [
    "cs_r = classification_report(y_seeds_test, y_pred)\n",
    "print(cs_r)"
   ]
  },
  {
   "cell_type": "code",
   "execution_count": 12,
   "id": "45856254",
   "metadata": {},
   "outputs": [
    {
     "ename": "NameError",
     "evalue": "name 'cs' is not defined",
     "output_type": "error",
     "traceback": [
      "\u001b[1;31m---------------------------------------------------------------------------\u001b[0m",
      "\u001b[1;31mNameError\u001b[0m                                 Traceback (most recent call last)",
      "\u001b[1;32m~\\AppData\\Local\\Temp/ipykernel_20140/4284195108.py\u001b[0m in \u001b[0;36m<module>\u001b[1;34m\u001b[0m\n\u001b[1;32m----> 1\u001b[1;33m \u001b[0mplotting\u001b[0m\u001b[1;33m(\u001b[0m\u001b[0mx_seeds_test\u001b[0m\u001b[1;33m,\u001b[0m \u001b[0my_seeds_test\u001b[0m\u001b[1;33m)\u001b[0m\u001b[1;33m\u001b[0m\u001b[1;33m\u001b[0m\u001b[0m\n\u001b[0m",
      "\u001b[1;32m~\\AppData\\Local\\Temp/ipykernel_20140/2286836426.py\u001b[0m in \u001b[0;36mplotting\u001b[1;34m(x_test, y_test)\u001b[0m\n\u001b[0;32m      4\u001b[0m     XX, YY = np.meshgrid(np.arange(start = X[:, 0].min() - 1, stop = X[:, 0].max() + 1, step = 0.01),\n\u001b[0;32m      5\u001b[0m                      np.arange(start = X[:, 1].min() - 1, stop = X[:, 1].max() + 1, step = 0.01))\n\u001b[1;32m----> 6\u001b[1;33m     \u001b[0mz\u001b[0m \u001b[1;33m=\u001b[0m \u001b[0mcs\u001b[0m\u001b[1;33m.\u001b[0m\u001b[0mpredict\u001b[0m\u001b[1;33m(\u001b[0m\u001b[0mnp\u001b[0m\u001b[1;33m.\u001b[0m\u001b[0marray\u001b[0m\u001b[1;33m(\u001b[0m\u001b[1;33m[\u001b[0m\u001b[0mXX\u001b[0m\u001b[1;33m.\u001b[0m\u001b[0mravel\u001b[0m\u001b[1;33m(\u001b[0m\u001b[1;33m)\u001b[0m\u001b[1;33m,\u001b[0m \u001b[0mYY\u001b[0m\u001b[1;33m.\u001b[0m\u001b[0mravel\u001b[0m\u001b[1;33m(\u001b[0m\u001b[1;33m)\u001b[0m\u001b[1;33m]\u001b[0m\u001b[1;33m)\u001b[0m\u001b[1;33m.\u001b[0m\u001b[0mT\u001b[0m\u001b[1;33m)\u001b[0m\u001b[1;33m\u001b[0m\u001b[1;33m\u001b[0m\u001b[0m\n\u001b[0m\u001b[0;32m      7\u001b[0m     \u001b[0mZZ\u001b[0m \u001b[1;33m=\u001b[0m \u001b[0mz\u001b[0m\u001b[1;33m.\u001b[0m\u001b[0mreshape\u001b[0m\u001b[1;33m(\u001b[0m\u001b[0mXX\u001b[0m\u001b[1;33m.\u001b[0m\u001b[0mshape\u001b[0m\u001b[1;33m)\u001b[0m\u001b[1;33m\u001b[0m\u001b[1;33m\u001b[0m\u001b[0m\n\u001b[0;32m      8\u001b[0m     \u001b[0mplt\u001b[0m\u001b[1;33m.\u001b[0m\u001b[0mcontourf\u001b[0m\u001b[1;33m(\u001b[0m\u001b[0mXX\u001b[0m\u001b[1;33m,\u001b[0m \u001b[0mYY\u001b[0m\u001b[1;33m,\u001b[0m \u001b[0mZZ\u001b[0m\u001b[1;33m,\u001b[0m \u001b[0malpha\u001b[0m \u001b[1;33m=\u001b[0m \u001b[1;36m0.2\u001b[0m\u001b[1;33m,\u001b[0m \u001b[0mcmap\u001b[0m \u001b[1;33m=\u001b[0m \u001b[0mListedColormap\u001b[0m\u001b[1;33m(\u001b[0m\u001b[1;33m(\u001b[0m\u001b[1;34m'red'\u001b[0m\u001b[1;33m,\u001b[0m \u001b[1;34m'green'\u001b[0m\u001b[1;33m)\u001b[0m\u001b[1;33m)\u001b[0m\u001b[1;33m)\u001b[0m\u001b[1;33m\u001b[0m\u001b[1;33m\u001b[0m\u001b[0m\n",
      "\u001b[1;31mNameError\u001b[0m: name 'cs' is not defined"
     ]
    }
   ],
   "source": [
    "plotting(x_seeds_test, y_seeds_test)"
   ]
  },
  {
   "cell_type": "code",
   "execution_count": null,
   "id": "4cfc6e91",
   "metadata": {},
   "outputs": [],
   "source": []
  }
 ],
 "metadata": {
  "kernelspec": {
   "display_name": "Python 3 (ipykernel)",
   "language": "python",
   "name": "python3"
  },
  "language_info": {
   "codemirror_mode": {
    "name": "ipython",
    "version": 3
   },
   "file_extension": ".py",
   "mimetype": "text/x-python",
   "name": "python",
   "nbconvert_exporter": "python",
   "pygments_lexer": "ipython3",
   "version": "3.9.7"
  }
 },
 "nbformat": 4,
 "nbformat_minor": 5
}
